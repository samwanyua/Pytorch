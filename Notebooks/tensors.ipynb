{
 "cells": [
  {
   "cell_type": "markdown",
   "metadata": {},
   "source": [
    "### Tensors\n",
    "In PyTorch, a Tensor is the core data structure, similar to NumPy arrays but with GPU acceleration. Tensors are used for all operations in deep learning models."
   ]
  },
  {
   "cell_type": "code",
   "execution_count": 1,
   "metadata": {},
   "outputs": [
    {
     "data": {
      "text/plain": [
       "tensor([[1, 2],\n",
       "        [3, 4]])"
      ]
     },
     "execution_count": 1,
     "metadata": {},
     "output_type": "execute_result"
    }
   ],
   "source": [
    "# Creating tensors\n",
    "import torch \n",
    "tensor_a = torch.tensor([[1,2], [3,4]])\n",
    "tensor_a"
   ]
  },
  {
   "cell_type": "code",
   "execution_count": 4,
   "metadata": {},
   "outputs": [
    {
     "name": "stdout",
     "output_type": "stream",
     "text": [
      "zeros : tensor([[0., 0., 0.],\n",
      "        [0., 0., 0.],\n",
      "        [0., 0., 0.]]), ones: tensor([[1., 1.],\n",
      "        [1., 1.]]),\n",
      " random tensor: tensor([[0.0319, 0.6614, 0.8831],\n",
      "        [0.8637, 0.6871, 0.3528]]),\n",
      " identity: tensor([[1., 0., 0.],\n",
      "        [0., 1., 0.],\n",
      "        [0., 0., 1.]])\n"
     ]
    }
   ],
   "source": [
    "# torch methods\n",
    "# Zeros tensor\n",
    "zeros = torch.zeros(3,3)\n",
    "\n",
    "# ones tensor\n",
    "ones = torch.ones(2,2)\n",
    "\n",
    "# random tensor\n",
    "random_tensor = torch.rand(2,3)\n",
    "\n",
    "# identity matrix\n",
    "identity = torch.eye(3)\n",
    "\n",
    "print(f\"zeros : {zeros}, ones: {ones},\\n random tensor: {random_tensor},\\n identity: {identity}\")"
   ]
  },
  {
   "cell_type": "code",
   "execution_count": null,
   "metadata": {},
   "outputs": [
    {
     "name": "stdout",
     "output_type": "stream",
     "text": [
      "Shape: torch.Size([4, 5])\n",
      "Datatype: torch.float32\n",
      "Device: cpu\n"
     ]
    }
   ],
   "source": [
    "# Tensor attributes\n",
    "x = torch.rand(4,5)\n",
    "print(f\"Shape: {x.shape}\")\n",
    "print(f\"Datatype: {x.dtype}\")\n",
    "print(f\"Device: {x.device}\")"
   ]
  },
  {
   "cell_type": "code",
   "execution_count": 6,
   "metadata": {},
   "outputs": [
    {
     "name": "stdout",
     "output_type": "stream",
     "text": [
      "Addition: tensor([5., 7., 9.])\n",
      " Multiplication: tensor([ 4., 10., 18.])\n",
      " Matrix Multiplication : tensor([[1.0211, 0.6608],\n",
      "        [1.3372, 0.5282]])\n"
     ]
    }
   ],
   "source": [
    "# Operations on tensors\n",
    "x = torch.tensor([1.0, 2.0,3.0])\n",
    "y = torch.tensor([4.0, 5.0, 6.0])\n",
    "\n",
    "# Element-wise addition\n",
    "z = x + y\n",
    "# Multiplication\n",
    "z_mul = x * y\n",
    "\n",
    "# Matrix multiplication\n",
    "mat1 = torch.rand(2,3)\n",
    "mat2 = torch.rand(3,2)\n",
    "result = torch.matmul(mat1,mat2)\n",
    "\n",
    "print(f\"Addition: {z}\\n Multiplication: {z_mul}\\n Matrix Multiplication : {result}\")\n"
   ]
  },
  {
   "cell_type": "code",
   "execution_count": 8,
   "metadata": {},
   "outputs": [
    {
     "name": "stdout",
     "output_type": "stream",
     "text": [
      "tensor([[0, 1, 2],\n",
      "        [3, 4, 5],\n",
      "        [6, 7, 8]])\n",
      "tensor([0, 1, 2])\n",
      "tensor([1, 4, 7])\n"
     ]
    }
   ],
   "source": [
    "# Reshaping and slicing\n",
    "x = torch.arange(9).reshape(3,3)\n",
    "print(x)\n",
    "\n",
    "print(x[0, :]) # first row\n",
    "print(x[: ,1]) # second column"
   ]
  },
  {
   "cell_type": "code",
   "execution_count": 9,
   "metadata": {},
   "outputs": [
    {
     "name": "stdout",
     "output_type": "stream",
     "text": [
      "[1 2 4]\n",
      "tensor([ 3.4000, 54.3000, 34.3000], dtype=torch.float64)\n"
     ]
    }
   ],
   "source": [
    "# converting between numpy and tensors\n",
    "import numpy as np\n",
    "\n",
    "# Convert tensor to numpy\n",
    "tensor = torch.tensor([1,2,4])\n",
    "num_array = tensor.numpy()\n",
    "print(num_array)\n",
    "# Convert numpy to tensor\n",
    "array = np.array([3.4,54.3, 34.3])\n",
    "tensor_from_numpy = torch.from_numpy(array)\n",
    "\n",
    "print(tensor_from_numpy)"
   ]
  },
  {
   "cell_type": "code",
   "execution_count": null,
   "metadata": {},
   "outputs": [
    {
     "name": "stdout",
     "output_type": "stream",
     "text": [
      "tensor(17.)\n"
     ]
    }
   ],
   "source": [
    "# Autograd for differentiation\n",
    "x = torch.tensor(2.0, requires_grad=True)\n",
    "y = x**3 + 5*x \n",
    "y.backward() # compute derivative\n",
    "\n",
    "print(x.grad) # dy/dx at x = 2\n"
   ]
  },
  {
   "cell_type": "code",
   "execution_count": 12,
   "metadata": {},
   "outputs": [
    {
     "data": {
      "text/plain": [
       "<Axes: >"
      ]
     },
     "execution_count": 12,
     "metadata": {},
     "output_type": "execute_result"
    },
    {
     "data": {
      "image/png": "[encoded data removed]",
      "text/plain": [
       "<Figure size 640x480 with 1 Axes>"
      ]
     },
     "metadata": {},
     "output_type": "display_data"
    }
   ],
   "source": [
    "import seaborn as sns\n",
    "def y_func(val):\n",
    "    return (val -3) * (val -6) * (val -4)\n",
    "\n",
    "x_range = np.linspace(0,10, 101)\n",
    "y_range = [y_func(i) for i in x_range]\n",
    "sns.lineplot(x=x_range, y=y_range)"
   ]
  },
  {
   "cell_type": "code",
   "execution_count": 15,
   "metadata": {},
   "outputs": [
    {
     "name": "stdout",
     "output_type": "stream",
     "text": [
      "tensor(59.)\n"
     ]
    }
   ],
   "source": [
    "y = (x -3) * (x -6) * (x -4)\n",
    "y.backward() # calculating the gradient\n",
    "print(x.grad)"
   ]
  },
  {
   "cell_type": "code",
   "execution_count": null,
   "metadata": {},
   "outputs": [],
   "source": []
  },
  {
   "cell_type": "code",
   "execution_count": null,
   "metadata": {},
   "outputs": [],
   "source": []
  }
 ],
 "metadata": {
  "kernelspec": {
   "display_name": "env",
   "language": "python",
   "name": "python3"
  },
  "language_info": {
   "codemirror_mode": {
    "name": "ipython",
    "version": 3
   },
   "file_extension": ".py",
   "mimetype": "text/x-python",
   "name": "python",
   "nbconvert_exporter": "python",
   "pygments_lexer": "ipython3",
   "version": "3.10.16"
  }
 },
 "nbformat": 4,
 "nbformat_minor": 2
}
