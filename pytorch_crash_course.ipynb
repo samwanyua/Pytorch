{
 "cells": [
  {
   "cell_type": "markdown",
   "metadata": {},
   "source": [
    "### Tensors\n",
    "It is a multi-dimensional matrix containing elements o a single data type"
   ]
  },
  {
   "cell_type": "code",
   "execution_count": 1,
   "metadata": {},
   "outputs": [],
   "source": [
    "import torch"
   ]
  },
  {
   "cell_type": "code",
   "execution_count": 6,
   "metadata": {},
   "outputs": [
    {
     "name": "stdout",
     "output_type": "stream",
     "text": [
      "tensor([[8.9966e-20, 0.0000e+00, 8.9545e-20],\n",
      "        [0.0000e+00, 0.0000e+00, 0.0000e+00],\n",
      "        [0.0000e+00, 0.0000e+00, 0.0000e+00],\n",
      "        [0.0000e+00, 1.4013e-45, 0.0000e+00],\n",
      "        [0.0000e+00, 0.0000e+00, 9.1084e-44]])\n",
      "tensor([8.9297e-20])\n",
      "tensor([8.9274e-20, 0.0000e+00, 8.9715e-20])\n",
      "tensor([[[8.9273e-20, 0.0000e+00],\n",
      "         [8.9537e-20, 0.0000e+00],\n",
      "         [4.4842e-43, 0.0000e+00]],\n",
      "\n",
      "        [[1.5695e-43, 0.0000e+00],\n",
      "         [8.9541e-20, 0.0000e+00],\n",
      "         [2.2194e-28, 4.5818e-41]],\n",
      "\n",
      "        [[0.0000e+00, 0.0000e+00],\n",
      "         [1.1351e-43, 0.0000e+00],\n",
      "         [8.9275e-20, 0.0000e+00]],\n",
      "\n",
      "        [[8.9391e-20, 0.0000e+00],\n",
      "         [0.0000e+00, 0.0000e+00],\n",
      "         [0.0000e+00, 0.0000e+00]]])\n"
     ]
    }
   ],
   "source": [
    "# torch.empty(size): uninitialised\n",
    "x = torch.empty(5, 3) # 5x3 matrix\n",
    "print(x)\n",
    "x = torch.empty(1) # scalar\n",
    "print(x)\n",
    "x = torch.empty(3) # vector\n",
    "print(x)\n",
    "x = torch.empty(4,3,2) # 3D tensor\n",
    "print(x)"
   ]
  },
  {
   "cell_type": "code",
   "execution_count": 9,
   "metadata": {},
   "outputs": [
    {
     "name": "stdout",
     "output_type": "stream",
     "text": [
      "tensor([[0.0224, 0.8974, 0.9190],\n",
      "        [0.3079, 0.3431, 0.6771],\n",
      "        [0.0530, 0.4458, 0.0414],\n",
      "        [0.7971, 0.0981, 0.4272],\n",
      "        [0.4812, 0.7815, 0.2912]])\n",
      "tensor([[0., 0., 0.],\n",
      "        [0., 0., 0.],\n",
      "        [0., 0., 0.],\n",
      "        [0., 0., 0.],\n",
      "        [0., 0., 0.]])\n",
      "tensor([[1., 1., 1.],\n",
      "        [1., 1., 1.],\n",
      "        [1., 1., 1.],\n",
      "        [1., 1., 1.],\n",
      "        [1., 1., 1.]])\n"
     ]
    }
   ],
   "source": [
    "# torch.rand(size): random numbers [0, 1]\n",
    "x = torch.rand(5, 3)\n",
    "print(x)\n",
    "\n",
    "# torch.zeros(size), torch.ones(size): zeros and ones\n",
    "x = torch.zeros(5, 3)\n",
    "print(x)\n",
    "# torch.ones \n",
    "x = torch.ones(5, 3)\n",
    "print(x)"
   ]
  },
  {
   "cell_type": "code",
   "execution_count": null,
   "metadata": {},
   "outputs": [],
   "source": []
  }
 ],
 "metadata": {
  "kernelspec": {
   "display_name": "env",
   "language": "python",
   "name": "python3"
  },
  "language_info": {
   "codemirror_mode": {
    "name": "ipython",
    "version": 3
   },
   "file_extension": ".py",
   "mimetype": "text/x-python",
   "name": "python",
   "nbconvert_exporter": "python",
   "pygments_lexer": "ipython3",
   "version": "3.10.16"
  }
 },
 "nbformat": 4,
 "nbformat_minor": 2
}
