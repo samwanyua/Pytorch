{
 "cells": [
  {
   "cell_type": "markdown",
   "metadata": {},
   "source": [
    "### Tensors\n",
    "It is a multi-dimensional matrix containing elements o a single data type"
   ]
  },
  {
   "cell_type": "code",
   "execution_count": 1,
   "metadata": {},
   "outputs": [],
   "source": [
    "import torch"
   ]
  },
  {
   "cell_type": "code",
   "execution_count": 6,
   "metadata": {},
   "outputs": [
    {
     "name": "stdout",
     "output_type": "stream",
     "text": [
      "tensor([[8.9966e-20, 0.0000e+00, 8.9545e-20],\n",
      "        [0.0000e+00, 0.0000e+00, 0.0000e+00],\n",
      "        [0.0000e+00, 0.0000e+00, 0.0000e+00],\n",
      "        [0.0000e+00, 1.4013e-45, 0.0000e+00],\n",
      "        [0.0000e+00, 0.0000e+00, 9.1084e-44]])\n",
      "tensor([8.9297e-20])\n",
      "tensor([8.9274e-20, 0.0000e+00, 8.9715e-20])\n",
      "tensor([[[8.9273e-20, 0.0000e+00],\n",
      "         [8.9537e-20, 0.0000e+00],\n",
      "         [4.4842e-43, 0.0000e+00]],\n",
      "\n",
      "        [[1.5695e-43, 0.0000e+00],\n",
      "         [8.9541e-20, 0.0000e+00],\n",
      "         [2.2194e-28, 4.5818e-41]],\n",
      "\n",
      "        [[0.0000e+00, 0.0000e+00],\n",
      "         [1.1351e-43, 0.0000e+00],\n",
      "         [8.9275e-20, 0.0000e+00]],\n",
      "\n",
      "        [[8.9391e-20, 0.0000e+00],\n",
      "         [0.0000e+00, 0.0000e+00],\n",
      "         [0.0000e+00, 0.0000e+00]]])\n"
     ]
    }
   ],
   "source": [
    "# torch.empty(size): uninitialised\n",
    "x = torch.empty(5, 3) # 5x3 matrix\n",
    "print(x)\n",
    "x = torch.empty(1) # scalar\n",
    "print(x)\n",
    "x = torch.empty(3) # vector\n",
    "print(x)\n",
    "x = torch.empty(4,3,2) # 3D tensor\n",
    "print(x)"
   ]
  },
  {
   "cell_type": "code",
   "execution_count": 9,
   "metadata": {},
   "outputs": [
    {
     "name": "stdout",
     "output_type": "stream",
     "text": [
      "tensor([[0.0224, 0.8974, 0.9190],\n",
      "        [0.3079, 0.3431, 0.6771],\n",
      "        [0.0530, 0.4458, 0.0414],\n",
      "        [0.7971, 0.0981, 0.4272],\n",
      "        [0.4812, 0.7815, 0.2912]])\n",
      "tensor([[0., 0., 0.],\n",
      "        [0., 0., 0.],\n",
      "        [0., 0., 0.],\n",
      "        [0., 0., 0.],\n",
      "        [0., 0., 0.]])\n",
      "tensor([[1., 1., 1.],\n",
      "        [1., 1., 1.],\n",
      "        [1., 1., 1.],\n",
      "        [1., 1., 1.],\n",
      "        [1., 1., 1.]])\n"
     ]
    }
   ],
   "source": [
    "# torch.rand(size): random numbers [0, 1]\n",
    "x = torch.rand(5, 3)\n",
    "print(x)\n",
    "\n",
    "# torch.zeros(size), torch.ones(size): zeros and ones\n",
    "x = torch.zeros(5, 3)\n",
    "print(x)\n",
    "# torch.ones \n",
    "x = torch.ones(5, 3)\n",
    "print(x)"
   ]
  },
  {
   "cell_type": "code",
   "execution_count": 11,
   "metadata": {},
   "outputs": [
    {
     "name": "stdout",
     "output_type": "stream",
     "text": [
      "torch.Size([5, 3])\n",
      "torch.Size([5, 3])\n"
     ]
    }
   ],
   "source": [
    "# check size of a tensor\n",
    "print(x.size())\n",
    "print(x.shape)"
   ]
  },
  {
   "cell_type": "code",
   "execution_count": 15,
   "metadata": {},
   "outputs": [
    {
     "name": "stdout",
     "output_type": "stream",
     "text": [
      "torch.int64\n",
      "tensor([[0., 0., 0.],\n",
      "        [0., 0., 0.],\n",
      "        [0., 0., 0.],\n",
      "        [0., 0., 0.],\n",
      "        [0., 0., 0.]], dtype=torch.float16)\n",
      "torch.float16\n"
     ]
    }
   ],
   "source": [
    "# check data type\n",
    "print(x.dtype)\n",
    "\n",
    "# specify data type\n",
    "x = torch.zeros(5, 3, dtype=torch.float16)\n",
    "print(x)\n",
    "print(x.dtype)"
   ]
  },
  {
   "cell_type": "code",
   "execution_count": 16,
   "metadata": {},
   "outputs": [
    {
     "name": "stdout",
     "output_type": "stream",
     "text": [
      "tensor([5.5000, 3.0000])\n"
     ]
    }
   ],
   "source": [
    "# construct from data\n",
    "x = torch.tensor([5.5, 3])\n",
    "print(x)"
   ]
  },
  {
   "cell_type": "code",
   "execution_count": null,
   "metadata": {},
   "outputs": [
    {
     "name": "stdout",
     "output_type": "stream",
     "text": [
      "tensor([5.5000, 3.0000], requires_grad=True)\n"
     ]
    }
   ],
   "source": [
    "# require gradient argument\n",
    "x = torch.tensor([5.5, 3], requires_grad=True) # used in variable in our model that we want to optimize\n",
    "print(x)"
   ]
  },
  {
   "cell_type": "code",
   "execution_count": 23,
   "metadata": {},
   "outputs": [
    {
     "name": "stdout",
     "output_type": "stream",
     "text": [
      "tensor([[0.0118, 0.4990],\n",
      "        [0.3886, 0.8521]])\n",
      "tensor([[1., 1.],\n",
      "        [1., 1.]])\n",
      "tensor([[1.0118, 1.4990],\n",
      "        [1.3886, 1.8521]])\n",
      "tensor([[1.0118, 1.4990],\n",
      "        [1.3886, 1.8521]])\n",
      "tensor([[0.9882, 0.5010],\n",
      "        [0.6114, 0.1479]])\n",
      "tensor([[0.9882, 0.5010],\n",
      "        [0.6114, 0.1479]])\n",
      "tensor([[0.0118, 0.4990],\n",
      "        [0.3886, 0.8521]])\n",
      "tensor([[0.0118, 0.4990],\n",
      "        [0.3886, 0.8521]])\n",
      "tensor([[84.4064,  2.0039],\n",
      "        [ 2.5731,  1.1736]])\n",
      "tensor([[84.4064,  2.0039],\n",
      "        [ 2.5731,  1.1736]])\n"
     ]
    }
   ],
   "source": [
    "# Tensor operations\n",
    "x = torch.ones(2,2)\n",
    "y = torch.rand(2,2)\n",
    "print(y)\n",
    "print(x)\n",
    "# elementwise addition\n",
    "z = x + y \n",
    "print(z)\n",
    "# same as\n",
    "z = torch.add(x, y)\n",
    "print(z)\n",
    "\n",
    "# subtraction\n",
    "z = x - y\n",
    "print(z)\n",
    "# same as\n",
    "z = torch.sub(x, y)\n",
    "print(z)\n",
    "\n",
    "# multiplication\n",
    "z = x * y\n",
    "print(z)\n",
    "# same as       \n",
    "z = torch.mul(x, y)\n",
    "print(z)\n",
    "\n",
    "# division\n",
    "z = x / y\n",
    "print(z)\n",
    "# same as\n",
    "z = torch.div(x, y)\n",
    "print(z)\n",
    "\n",
    "\n",
    "\n"
   ]
  },
  {
   "cell_type": "code",
   "execution_count": 25,
   "metadata": {},
   "outputs": [
    {
     "name": "stdout",
     "output_type": "stream",
     "text": [
      "tensor([[0.8519, 0.2421, 0.8938],\n",
      "        [0.3553, 0.1748, 0.1911],\n",
      "        [0.8769, 0.9195, 0.0790],\n",
      "        [0.6870, 0.4800, 0.3625],\n",
      "        [0.8791, 0.9055, 0.1143]])\n",
      "tensor([0.8519, 0.3553, 0.8769, 0.6870, 0.8791])\n",
      "tensor([0.3553, 0.1748, 0.1911])\n",
      "tensor(0.1748)\n"
     ]
    }
   ],
   "source": [
    "# slicing\n",
    "x = torch.rand(5, 3)\n",
    "print(x)\n",
    "print(x[:,0]) # all rows, first column\n",
    "print(x[1,:]) # second row, all columns\n",
    "print(x[1,1]) # second row, second column\n"
   ]
  },
  {
   "cell_type": "code",
   "execution_count": null,
   "metadata": {},
   "outputs": [],
   "source": []
  }
 ],
 "metadata": {
  "kernelspec": {
   "display_name": "env",
   "language": "python",
   "name": "python3"
  },
  "language_info": {
   "codemirror_mode": {
    "name": "ipython",
    "version": 3
   },
   "file_extension": ".py",
   "mimetype": "text/x-python",
   "name": "python",
   "nbconvert_exporter": "python",
   "pygments_lexer": "ipython3",
   "version": "3.10.16"
  }
 },
 "nbformat": 4,
 "nbformat_minor": 2
}
